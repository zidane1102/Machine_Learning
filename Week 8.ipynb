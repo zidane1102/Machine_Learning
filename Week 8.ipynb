{
 "cells": [
  {
   "cell_type": "code",
   "execution_count": 3,
   "id": "2ef17c78",
   "metadata": {},
   "outputs": [],
   "source": [
    "import numpy as np\n",
    "import matplotlib.pyplot as plt"
   ]
  },
  {
   "cell_type": "code",
   "execution_count": 4,
   "id": "dac51afc",
   "metadata": {},
   "outputs": [],
   "source": [
    "X = np.array([[1, 3], [2, 2], [3, 2], [4, 1], [4, 2], \n",
    "              [2, 6], [4, 6], [3, 7], [2, 8], [1, 9],\n",
    "              [8, 6], [9, 7], [7, 9], [10, 6], [8, 9],\n",
    "              [8, 4], [9, 1], [10, 3], [8, 3], [9, 3]])\n",
    "y = np.ones(20)\n",
    "y[:5] = 0"
   ]
  },
  {
   "cell_type": "code",
   "execution_count": 5,
   "id": "75109311",
   "metadata": {},
   "outputs": [
    {
     "data": {
      "text/plain": [
       "<matplotlib.collections.PathCollection at 0x2b736261cd0>"
      ]
     },
     "execution_count": 5,
     "metadata": {},
     "output_type": "execute_result"
    },
    {
     "data": {
      "image/png": "[encoded data removed]",
      "text/plain": [
       "<Figure size 432x288 with 1 Axes>"
      ]
     },
     "metadata": {
      "needs_background": "light"
     },
     "output_type": "display_data"
    }
   ],
   "source": [
    "plt.scatter(X[:, 0], X[:, 1], c=y)"
   ]
  },
  {
   "cell_type": "code",
   "execution_count": 6,
   "id": "d757cd4a",
   "metadata": {},
   "outputs": [],
   "source": [
    "def calculate_gini(n1, n2):\n",
    "    if n1+n2 == 0: return 1\n",
    "    else: return 1 - (n1/(n1+n2))**2 - (n2/(n1+n2))**2"
   ]
  },
  {
   "cell_type": "code",
   "execution_count": 7,
   "id": "ce58716c",
   "metadata": {},
   "outputs": [],
   "source": [
    "g1 = calculate_gini(y.shape[0] - sum(y), sum(y))"
   ]
  },
  {
   "cell_type": "code",
   "execution_count": 36,
   "id": "3a953853",
   "metadata": {
    "scrolled": false
   },
   "outputs": [],
   "source": [
    "g2 = []\n",
    "g3 = []\n",
    "gini_index = []\n",
    "count = 0\n",
    "count_2 = 0\n",
    "\n",
    "for i in ya:\n",
    "    for j in X[:5]:\n",
    "        if (i == j).all():\n",
    "            count += 1\n",
    "\n",
    "for i in yb:\n",
    "    for j in X[:5]:\n",
    "        if (i == j).all():\n",
    "            count_2 += 1  \n",
    "\n",
    "\n",
    "for i in range(0, 10):  \n",
    "    ya = X[X[:, 0] >= i+1]\n",
    "    g2.append(calculate_gini(ya.shape[0] - count, count))    \n",
    "    \n",
    "    yb = X[X[:, 0] < i+1]\n",
    "    g3.append(calculate_gini(yb.shape[0] - count_2, count_2)) \n",
    "    \n",
    "    gini_index.append(g1 - g2 * int(ya.shape[0]/y.shape[0]) - g3 * int(yb.shape[0]/y.shape[0]))\n",
    "  "
   ]
  },
  {
   "cell_type": "code",
   "execution_count": 38,
   "id": "40ff3372",
   "metadata": {},
   "outputs": [
    {
     "ename": "ValueError",
     "evalue": "zero-size array to reduction operation maximum which has no identity",
     "output_type": "error",
     "traceback": [
      "\u001b[1;31m---------------------------------------------------------------------------\u001b[0m",
      "\u001b[1;31mValueError\u001b[0m                                Traceback (most recent call last)",
      "\u001b[1;32m<ipython-input-38-14e1e471c18d>\u001b[0m in \u001b[0;36m<module>\u001b[1;34m\u001b[0m\n\u001b[1;32m----> 1\u001b[1;33m \u001b[0mnp\u001b[0m\u001b[1;33m.\u001b[0m\u001b[0mnanmax\u001b[0m\u001b[1;33m(\u001b[0m\u001b[0mgini_index\u001b[0m\u001b[1;33m)\u001b[0m\u001b[1;33m\u001b[0m\u001b[1;33m\u001b[0m\u001b[0m\n\u001b[0m",
      "\u001b[1;32m<__array_function__ internals>\u001b[0m in \u001b[0;36mnanmax\u001b[1;34m(*args, **kwargs)\u001b[0m\n",
      "\u001b[1;32mD:\\Anaconda\\lib\\site-packages\\numpy\\lib\\nanfunctions.py\u001b[0m in \u001b[0;36mnanmax\u001b[1;34m(a, axis, out, keepdims)\u001b[0m\n\u001b[0;32m    439\u001b[0m         \u001b[1;31m# Slow, but safe for subclasses of ndarray\u001b[0m\u001b[1;33m\u001b[0m\u001b[1;33m\u001b[0m\u001b[1;33m\u001b[0m\u001b[0m\n\u001b[0;32m    440\u001b[0m         \u001b[0ma\u001b[0m\u001b[1;33m,\u001b[0m \u001b[0mmask\u001b[0m \u001b[1;33m=\u001b[0m \u001b[0m_replace_nan\u001b[0m\u001b[1;33m(\u001b[0m\u001b[0ma\u001b[0m\u001b[1;33m,\u001b[0m \u001b[1;33m-\u001b[0m\u001b[0mnp\u001b[0m\u001b[1;33m.\u001b[0m\u001b[0minf\u001b[0m\u001b[1;33m)\u001b[0m\u001b[1;33m\u001b[0m\u001b[1;33m\u001b[0m\u001b[0m\n\u001b[1;32m--> 441\u001b[1;33m         \u001b[0mres\u001b[0m \u001b[1;33m=\u001b[0m \u001b[0mnp\u001b[0m\u001b[1;33m.\u001b[0m\u001b[0mamax\u001b[0m\u001b[1;33m(\u001b[0m\u001b[0ma\u001b[0m\u001b[1;33m,\u001b[0m \u001b[0maxis\u001b[0m\u001b[1;33m=\u001b[0m\u001b[0maxis\u001b[0m\u001b[1;33m,\u001b[0m \u001b[0mout\u001b[0m\u001b[1;33m=\u001b[0m\u001b[0mout\u001b[0m\u001b[1;33m,\u001b[0m \u001b[1;33m**\u001b[0m\u001b[0mkwargs\u001b[0m\u001b[1;33m)\u001b[0m\u001b[1;33m\u001b[0m\u001b[1;33m\u001b[0m\u001b[0m\n\u001b[0m\u001b[0;32m    442\u001b[0m         \u001b[1;32mif\u001b[0m \u001b[0mmask\u001b[0m \u001b[1;32mis\u001b[0m \u001b[1;32mNone\u001b[0m\u001b[1;33m:\u001b[0m\u001b[1;33m\u001b[0m\u001b[1;33m\u001b[0m\u001b[0m\n\u001b[0;32m    443\u001b[0m             \u001b[1;32mreturn\u001b[0m \u001b[0mres\u001b[0m\u001b[1;33m\u001b[0m\u001b[1;33m\u001b[0m\u001b[0m\n",
      "\u001b[1;32m<__array_function__ internals>\u001b[0m in \u001b[0;36mamax\u001b[1;34m(*args, **kwargs)\u001b[0m\n",
      "\u001b[1;32mD:\\Anaconda\\lib\\site-packages\\numpy\\core\\fromnumeric.py\u001b[0m in \u001b[0;36mamax\u001b[1;34m(a, axis, out, keepdims, initial, where)\u001b[0m\n\u001b[0;32m   2731\u001b[0m     \u001b[1;36m5\u001b[0m\u001b[1;33m\u001b[0m\u001b[1;33m\u001b[0m\u001b[0m\n\u001b[0;32m   2732\u001b[0m     \"\"\"\n\u001b[1;32m-> 2733\u001b[1;33m     return _wrapreduction(a, np.maximum, 'max', axis, None, out,\n\u001b[0m\u001b[0;32m   2734\u001b[0m                           keepdims=keepdims, initial=initial, where=where)\n\u001b[0;32m   2735\u001b[0m \u001b[1;33m\u001b[0m\u001b[0m\n",
      "\u001b[1;32mD:\\Anaconda\\lib\\site-packages\\numpy\\core\\fromnumeric.py\u001b[0m in \u001b[0;36m_wrapreduction\u001b[1;34m(obj, ufunc, method, axis, dtype, out, **kwargs)\u001b[0m\n\u001b[0;32m     85\u001b[0m                 \u001b[1;32mreturn\u001b[0m \u001b[0mreduction\u001b[0m\u001b[1;33m(\u001b[0m\u001b[0maxis\u001b[0m\u001b[1;33m=\u001b[0m\u001b[0maxis\u001b[0m\u001b[1;33m,\u001b[0m \u001b[0mout\u001b[0m\u001b[1;33m=\u001b[0m\u001b[0mout\u001b[0m\u001b[1;33m,\u001b[0m \u001b[1;33m**\u001b[0m\u001b[0mpasskwargs\u001b[0m\u001b[1;33m)\u001b[0m\u001b[1;33m\u001b[0m\u001b[1;33m\u001b[0m\u001b[0m\n\u001b[0;32m     86\u001b[0m \u001b[1;33m\u001b[0m\u001b[0m\n\u001b[1;32m---> 87\u001b[1;33m     \u001b[1;32mreturn\u001b[0m \u001b[0mufunc\u001b[0m\u001b[1;33m.\u001b[0m\u001b[0mreduce\u001b[0m\u001b[1;33m(\u001b[0m\u001b[0mobj\u001b[0m\u001b[1;33m,\u001b[0m \u001b[0maxis\u001b[0m\u001b[1;33m,\u001b[0m \u001b[0mdtype\u001b[0m\u001b[1;33m,\u001b[0m \u001b[0mout\u001b[0m\u001b[1;33m,\u001b[0m \u001b[1;33m**\u001b[0m\u001b[0mpasskwargs\u001b[0m\u001b[1;33m)\u001b[0m\u001b[1;33m\u001b[0m\u001b[1;33m\u001b[0m\u001b[0m\n\u001b[0m\u001b[0;32m     88\u001b[0m \u001b[1;33m\u001b[0m\u001b[0m\n\u001b[0;32m     89\u001b[0m \u001b[1;33m\u001b[0m\u001b[0m\n",
      "\u001b[1;31mValueError\u001b[0m: zero-size array to reduction operation maximum which has no identity"
     ]
    }
   ],
   "source": [
    "np.nanmax(gini_index)"
   ]
  },
  {
   "cell_type": "code",
   "execution_count": null,
   "id": "1741cba5",
   "metadata": {},
   "outputs": [],
   "source": []
  },
  {
   "cell_type": "code",
   "execution_count": null,
   "id": "505b8bab",
   "metadata": {},
   "outputs": [],
   "source": []
  },
  {
   "cell_type": "code",
   "execution_count": 568,
   "id": "ac941fa2",
   "metadata": {},
   "outputs": [
    {
     "data": {
      "text/plain": [
       "[array([], shape=(0, 2), dtype=int32),\n",
       " array([[1, 3],\n",
       "        [1, 9]]),\n",
       " array([[1, 3],\n",
       "        [2, 2],\n",
       "        [2, 6],\n",
       "        [2, 8],\n",
       "        [1, 9]]),\n",
       " array([[1, 3],\n",
       "        [2, 2],\n",
       "        [3, 2],\n",
       "        [2, 6],\n",
       "        [3, 7],\n",
       "        [2, 8],\n",
       "        [1, 9]]),\n",
       " array([[1, 3],\n",
       "        [2, 2],\n",
       "        [3, 2],\n",
       "        [4, 1],\n",
       "        [4, 2],\n",
       "        [2, 6],\n",
       "        [4, 6],\n",
       "        [3, 7],\n",
       "        [2, 8],\n",
       "        [1, 9]]),\n",
       " array([[1, 3],\n",
       "        [2, 2],\n",
       "        [3, 2],\n",
       "        [4, 1],\n",
       "        [4, 2],\n",
       "        [2, 6],\n",
       "        [4, 6],\n",
       "        [3, 7],\n",
       "        [2, 8],\n",
       "        [1, 9]]),\n",
       " array([[1, 3],\n",
       "        [2, 2],\n",
       "        [3, 2],\n",
       "        [4, 1],\n",
       "        [4, 2],\n",
       "        [2, 6],\n",
       "        [4, 6],\n",
       "        [3, 7],\n",
       "        [2, 8],\n",
       "        [1, 9]]),\n",
       " array([[1, 3],\n",
       "        [2, 2],\n",
       "        [3, 2],\n",
       "        [4, 1],\n",
       "        [4, 2],\n",
       "        [2, 6],\n",
       "        [4, 6],\n",
       "        [3, 7],\n",
       "        [2, 8],\n",
       "        [1, 9],\n",
       "        [7, 9]]),\n",
       " array([[1, 3],\n",
       "        [2, 2],\n",
       "        [3, 2],\n",
       "        [4, 1],\n",
       "        [4, 2],\n",
       "        [2, 6],\n",
       "        [4, 6],\n",
       "        [3, 7],\n",
       "        [2, 8],\n",
       "        [1, 9],\n",
       "        [8, 6],\n",
       "        [7, 9],\n",
       "        [8, 9],\n",
       "        [8, 4],\n",
       "        [8, 3]]),\n",
       " array([[1, 3],\n",
       "        [2, 2],\n",
       "        [3, 2],\n",
       "        [4, 1],\n",
       "        [4, 2],\n",
       "        [2, 6],\n",
       "        [4, 6],\n",
       "        [3, 7],\n",
       "        [2, 8],\n",
       "        [1, 9],\n",
       "        [8, 6],\n",
       "        [9, 7],\n",
       "        [7, 9],\n",
       "        [8, 9],\n",
       "        [8, 4],\n",
       "        [9, 1],\n",
       "        [8, 3],\n",
       "        [9, 3]])]"
      ]
     },
     "execution_count": 568,
     "metadata": {},
     "output_type": "execute_result"
    }
   ],
   "source": []
  },
  {
   "cell_type": "code",
   "execution_count": 561,
   "id": "a8d3a751",
   "metadata": {},
   "outputs": [
    {
     "data": {
      "text/plain": [
       "10"
      ]
     },
     "execution_count": 561,
     "metadata": {},
     "output_type": "execute_result"
    }
   ],
   "source": []
  },
  {
   "cell_type": "code",
   "execution_count": 562,
   "id": "1967b74d",
   "metadata": {},
   "outputs": [
    {
     "data": {
      "text/plain": [
       "0"
      ]
     },
     "execution_count": 562,
     "metadata": {},
     "output_type": "execute_result"
    }
   ],
   "source": []
  },
  {
   "cell_type": "code",
   "execution_count": 563,
   "id": "beb96039",
   "metadata": {},
   "outputs": [
    {
     "data": {
      "text/plain": [
       "0.0"
      ]
     },
     "execution_count": 563,
     "metadata": {},
     "output_type": "execute_result"
    }
   ],
   "source": []
  },
  {
   "cell_type": "code",
   "execution_count": null,
   "id": "7e9c15f7",
   "metadata": {},
   "outputs": [],
   "source": []
  },
  {
   "cell_type": "code",
   "execution_count": null,
   "id": "16f4a879",
   "metadata": {},
   "outputs": [],
   "source": []
  }
 ],
 "metadata": {
  "kernelspec": {
   "display_name": "Python 3",
   "language": "python",
   "name": "python3"
  },
  "language_info": {
   "codemirror_mode": {
    "name": "ipython",
    "version": 3
   },
   "file_extension": ".py",
   "mimetype": "text/x-python",
   "name": "python",
   "nbconvert_exporter": "python",
   "pygments_lexer": "ipython3",
   "version": "3.8.8"
  }
 },
 "nbformat": 4,
 "nbformat_minor": 5
}
